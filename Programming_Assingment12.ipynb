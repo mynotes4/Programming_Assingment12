{
 "cells": [
  {
   "cell_type": "code",
   "execution_count": null,
   "id": "3e553918",
   "metadata": {},
   "outputs": [],
   "source": [
    "# 1. Write a Python program to Extract Unique values dictionary values?\n",
    "d = {'gfg' : [5, 6, 7, 8] , 'is' : [10, 11, 7, 5] , 'best' : [6, 12, 10, 8] , 'for' : [1, 2, 5]}\n",
    "l = []\n",
    "for i in list(d.values()):\n",
    "    for j in i:\n",
    "        l.append(j)\n",
    "s = set(l)\n",
    "print(\"Unique values are \" , list(s))"
   ]
  },
  {
   "cell_type": "code",
   "execution_count": null,
   "id": "026248cc",
   "metadata": {},
   "outputs": [],
   "source": [
    "# 2 . Write a Python program to find the sum of all items in a dictionary?\n",
    "d = {'gfg' : [5, 6, 7, 8] , 'is' : [10, 11, 7, 5] , 'best' : [6, 12, 10, 8] , 'for' : [1, 2, 5]}\n",
    "s = 0\n",
    "for i in list(d.values()):\n",
    "    for j in i:\n",
    "        s = s + j\n",
    "print(\"sum\" , s)"
   ]
  },
  {
   "cell_type": "code",
   "execution_count": null,
   "id": "beea90c4",
   "metadata": {},
   "outputs": [],
   "source": [
    "# 3 . Write a Python program to Merging two Dictionaries?\n",
    "d1 = {'gfg' : [5, 6, 7, 8] , 'is' : [10, 11, 7, 5] , 'best' : [6, 12, 10, 8] , 'for' : [1, 2, 5]}\n",
    "d2 = { 'x':30, 'y':145, 'z':55 }\n",
    "d2.update(d1)\n",
    "print(d1)"
   ]
  },
  {
   "cell_type": "code",
   "execution_count": null,
   "id": "f5fe5087",
   "metadata": {},
   "outputs": [],
   "source": [
    "# 4 . Write a Python program to convert key-values list to flat dictionary?\n",
    "d = {'a' : [1,3,5,7] , 'b' : [2,4,6,8]}\n",
    "key = list(d.keys())\n",
    "d = dict(zip(d[key[0]],d[key[1]]))\n",
    "print(d)"
   ]
  },
  {
   "cell_type": "code",
   "execution_count": null,
   "id": "25e336b1",
   "metadata": {},
   "outputs": [],
   "source": [
    "# 5. Write a Python program to insertion at the beginning in OrderedDict?\n",
    "from collections import OrderedDict\n",
    "d = { 'x':30, 'y':145, 'z':55 }\n",
    "d = OrderedDict(d)\n",
    "d.update({\"a\" : 90})\n",
    "d.move_to_end(\"a\",last=False)\n",
    "print(dict(d))"
   ]
  },
  {
   "cell_type": "code",
   "execution_count": null,
   "id": "1b52d9ee",
   "metadata": {},
   "outputs": [],
   "source": [
    "# 6. Write a Python program to check order of character in string using OrderedDict()?\n",
    "from collections import OrderedDict\n",
    "def checkOrder(i,p):\n",
    "    d = OrderedDict.fromkeys(i)\n",
    "    plen = 0\n",
    "    for key,values in d.items():\n",
    "        if key == p[plen]:\n",
    "            plen = plen + 1\n",
    "        if plen == len(p):\n",
    "            return True\n",
    "    return False\n",
    "i = \"Hi baby\"\n",
    "p = \"by\"\n",
    "print(checkOrder(i,p))"
   ]
  },
  {
   "cell_type": "code",
   "execution_count": null,
   "id": "dc9697b5",
   "metadata": {},
   "outputs": [],
   "source": [
    "# 7. Write a Python program to sort Python Dictionaries by Key or Value?\n",
    "from collections import OrderedDict\n",
    "d = { 'x':30 , 'a':47 , 'y':145 , 'b':78 , 'z':55 }\n",
    "print(\"Sort by keys \" ,dict(OrderedDict(sorted(d.items()))))\n",
    "print(\"Sort by values \" ,dict(sorted(d.items(), key=lambda kv : (kv[1], kv[0]))))"
   ]
  }
 ],
 "metadata": {
  "kernelspec": {
   "display_name": "Python 3 (ipykernel)",
   "language": "python",
   "name": "python3"
  },
  "language_info": {
   "codemirror_mode": {
    "name": "ipython",
    "version": 3
   },
   "file_extension": ".py",
   "mimetype": "text/x-python",
   "name": "python",
   "nbconvert_exporter": "python",
   "pygments_lexer": "ipython3",
   "version": "3.9.12"
  }
 },
 "nbformat": 4,
 "nbformat_minor": 5
}
